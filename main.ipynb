{
 "cells": [
  {
   "cell_type": "markdown",
   "id": "f5d80c60",
   "metadata": {
    "id": "f5d80c60"
   },
   "source": [
    "# 1. Problem Statement\n",
    " \n",
    "Students are expected to identify a classification / regression problem of your choice. You have to detail the problem under this heading which basically addresses the following questions.\n",
    " \n",
    "   1. What is the problem that you are trying to solve?\n",
    "   2. What kind of prediction (classification / regression) task are you performing?\n",
    "\n",
    "ENSURE THAT YOU ARE USING NUMERICAL / CATEGORICAL DATA only.\n",
    "\n",
    "DO NOT use images or textual data.\n",
    "\n",
    "Score: 1 Mark in total (0.5 mark each)"
   ]
  },
  {
   "cell_type": "markdown",
   "id": "f7dc9752",
   "metadata": {
    "id": "3298e121"
   },
   "source": [
    "--------------Type the answers below this line--------------\n",
    "</br></br>\n",
    "Ans1. Problem Statment:- This dataset is used to predict whether a patient is likely to get stroke</br></br>\n",
    "\n",
    "Ans2. We are performing <b>classification</b> task where we are predicitng that a patient is likely to get stroke or not."
   ]
  },
  {
   "cell_type": "markdown",
   "id": "3cc8e0cb",
   "metadata": {
    "id": "3cc8e0cb"
   },
   "source": [
    "# 2. Data Acquisition\n",
    " \n",
    "For the problem identified by you, students have to find the data source themselves from any data source.\n",
    "\n",
    "## 2.1 Download the data directly\n",
    "\n"
   ]
  },
  {
   "cell_type": "code",
   "execution_count": 309,
   "id": "4b51d895",
   "metadata": {
    "id": "4b51d895"
   },
   "outputs": [],
   "source": [
    "##---------Type the code below this line------------------##\n",
    "import pandas as pd\n",
    "import numpy as np\n",
    "import warnings\n",
    "warnings.filterwarnings(\"ignore\")\n",
    "\n",
    "\n",
    "url=\"https://raw.githubusercontent.com/bhavuksagar/stroke_prediciton/main/stroke_data.csv\""
   ]
  },
  {
   "cell_type": "markdown",
   "id": "49530d0c",
   "metadata": {
    "id": "49530d0c"
   },
   "source": [
    "## 2.2 Code for converting the above downloaded data into a form suitable for DL "
   ]
  },
  {
   "cell_type": "code",
   "execution_count": 287,
   "id": "c1f4c171",
   "metadata": {
    "id": "c1f4c171"
   },
   "outputs": [
    {
     "name": "stdout",
     "output_type": "stream",
     "text": [
      "Size of the Data: (5112, 12)\n",
      "\n",
      "Features in our dataset: Index(['id', 'gender', 'age', 'hypertension', 'heart_disease', 'ever_married',\n",
      "       'work_type', 'Residence_type', 'avg_glucose_level', 'bmi',\n",
      "       'smoking_status', 'stroke'],\n",
      "      dtype='object')\n",
      "\n",
      "<class 'pandas.core.frame.DataFrame'>\n",
      "RangeIndex: 5112 entries, 0 to 5111\n",
      "Data columns (total 12 columns):\n",
      " #   Column             Non-Null Count  Dtype  \n",
      "---  ------             --------------  -----  \n",
      " 0   id                 5112 non-null   int64  \n",
      " 1   gender             5111 non-null   object \n",
      " 2   age                5112 non-null   float64\n",
      " 3   hypertension       5112 non-null   int64  \n",
      " 4   heart_disease      5112 non-null   int64  \n",
      " 5   ever_married       5112 non-null   object \n",
      " 6   work_type          5112 non-null   object \n",
      " 7   Residence_type     5112 non-null   object \n",
      " 8   avg_glucose_level  5112 non-null   float64\n",
      " 9   bmi                4911 non-null   float64\n",
      " 10  smoking_status     5108 non-null   object \n",
      " 11  stroke             5112 non-null   int64  \n",
      "dtypes: float64(3), int64(4), object(5)\n",
      "memory usage: 479.4+ KB\n",
      "Type of Data attributes: None\n"
     ]
    },
    {
     "data": {
      "text/html": [
       "<div>\n",
       "<style scoped>\n",
       "    .dataframe tbody tr th:only-of-type {\n",
       "        vertical-align: middle;\n",
       "    }\n",
       "\n",
       "    .dataframe tbody tr th {\n",
       "        vertical-align: top;\n",
       "    }\n",
       "\n",
       "    .dataframe thead th {\n",
       "        text-align: right;\n",
       "    }\n",
       "</style>\n",
       "<table border=\"1\" class=\"dataframe\">\n",
       "  <thead>\n",
       "    <tr style=\"text-align: right;\">\n",
       "      <th></th>\n",
       "      <th>id</th>\n",
       "      <th>gender</th>\n",
       "      <th>age</th>\n",
       "      <th>hypertension</th>\n",
       "      <th>heart_disease</th>\n",
       "      <th>ever_married</th>\n",
       "      <th>work_type</th>\n",
       "      <th>Residence_type</th>\n",
       "      <th>avg_glucose_level</th>\n",
       "      <th>bmi</th>\n",
       "      <th>smoking_status</th>\n",
       "      <th>stroke</th>\n",
       "    </tr>\n",
       "  </thead>\n",
       "  <tbody>\n",
       "    <tr>\n",
       "      <th>0</th>\n",
       "      <td>9046</td>\n",
       "      <td>Male</td>\n",
       "      <td>67.0</td>\n",
       "      <td>0</td>\n",
       "      <td>1</td>\n",
       "      <td>Yes</td>\n",
       "      <td>Private</td>\n",
       "      <td>Urban</td>\n",
       "      <td>228.69</td>\n",
       "      <td>36.6</td>\n",
       "      <td>formerly smoked</td>\n",
       "      <td>1</td>\n",
       "    </tr>\n",
       "    <tr>\n",
       "      <th>1</th>\n",
       "      <td>51676</td>\n",
       "      <td>Female</td>\n",
       "      <td>61.0</td>\n",
       "      <td>0</td>\n",
       "      <td>0</td>\n",
       "      <td>Yes</td>\n",
       "      <td>Self-employed</td>\n",
       "      <td>Rural</td>\n",
       "      <td>202.21</td>\n",
       "      <td>NaN</td>\n",
       "      <td>never smoked</td>\n",
       "      <td>1</td>\n",
       "    </tr>\n",
       "    <tr>\n",
       "      <th>2</th>\n",
       "      <td>31112</td>\n",
       "      <td>Male</td>\n",
       "      <td>80.0</td>\n",
       "      <td>0</td>\n",
       "      <td>1</td>\n",
       "      <td>Yes</td>\n",
       "      <td>Private</td>\n",
       "      <td>Rural</td>\n",
       "      <td>105.92</td>\n",
       "      <td>32.5</td>\n",
       "      <td>never smoked</td>\n",
       "      <td>1</td>\n",
       "    </tr>\n",
       "    <tr>\n",
       "      <th>3</th>\n",
       "      <td>60182</td>\n",
       "      <td>Female</td>\n",
       "      <td>49.0</td>\n",
       "      <td>0</td>\n",
       "      <td>0</td>\n",
       "      <td>Yes</td>\n",
       "      <td>Private</td>\n",
       "      <td>Urban</td>\n",
       "      <td>171.23</td>\n",
       "      <td>34.4</td>\n",
       "      <td>smokes</td>\n",
       "      <td>1</td>\n",
       "    </tr>\n",
       "    <tr>\n",
       "      <th>4</th>\n",
       "      <td>1665</td>\n",
       "      <td>Female</td>\n",
       "      <td>79.0</td>\n",
       "      <td>1</td>\n",
       "      <td>0</td>\n",
       "      <td>Yes</td>\n",
       "      <td>Self-employed</td>\n",
       "      <td>Rural</td>\n",
       "      <td>174.12</td>\n",
       "      <td>24.0</td>\n",
       "      <td>never smoked</td>\n",
       "      <td>1</td>\n",
       "    </tr>\n",
       "  </tbody>\n",
       "</table>\n",
       "</div>"
      ],
      "text/plain": [
       "      id  gender   age  hypertension  heart_disease ever_married  \\\n",
       "0   9046    Male  67.0             0              1          Yes   \n",
       "1  51676  Female  61.0             0              0          Yes   \n",
       "2  31112    Male  80.0             0              1          Yes   \n",
       "3  60182  Female  49.0             0              0          Yes   \n",
       "4   1665  Female  79.0             1              0          Yes   \n",
       "\n",
       "       work_type Residence_type  avg_glucose_level   bmi   smoking_status  \\\n",
       "0        Private          Urban             228.69  36.6  formerly smoked   \n",
       "1  Self-employed          Rural             202.21   NaN     never smoked   \n",
       "2        Private          Rural             105.92  32.5     never smoked   \n",
       "3        Private          Urban             171.23  34.4           smokes   \n",
       "4  Self-employed          Rural             174.12  24.0     never smoked   \n",
       "\n",
       "   stroke  \n",
       "0       1  \n",
       "1       1  \n",
       "2       1  \n",
       "3       1  \n",
       "4       1  "
      ]
     },
     "execution_count": 287,
     "metadata": {},
     "output_type": "execute_result"
    }
   ],
   "source": [
    "##---------Type the code below this line------------------##\n",
    "\n",
    "df=pd.read_csv(url)\n",
    "\n",
    "print(\"Size of the Data:\",df.shape,end=\"\\n\\n\")\n",
    "print(\"Features in our dataset:\",df.columns,end=\"\\n\\n\")\n",
    "print(\"Type of Data attributes:\",df.info())\n",
    "df.head()"
   ]
  },
  {
   "cell_type": "markdown",
   "id": "812edb18",
   "metadata": {
    "id": "812edb18"
   },
   "source": [
    "## 2.3 Write your observations from the above. \n",
    "\n",
    "1. Size of the dataset\n",
    "2. What type of data attributes are there?\n",
    "\n",
    "Score: 2 Mark"
   ]
  },
  {
   "cell_type": "raw",
   "id": "a817afb8",
   "metadata": {
    "id": "60d80d2f"
   },
   "source": [
    "--------------Type the answers below this line--------------\n",
    "Ans1. The size of our data is 5112 rows and 12 columns/features(including our target column).\n",
    "\n",
    "Ans2. Our dataset contains 12 columns(including Target column) and data type of all columns are:\n",
    "\n",
    "S.no. Column             Non-Null Count  Dtype  \n",
    "---  ------             --------------  -----  \n",
    " 0   id                 5112 non-null   int64  \n",
    " 1   gender             5111 non-null   object \n",
    " 2   age                5112 non-null   float64\n",
    " 3   hypertension       5112 non-null   int64  \n",
    " 4   heart_disease      5112 non-null   int64  \n",
    " 5   ever_married       5112 non-null   object \n",
    " 6   work_type          5112 non-null   object \n",
    " 7   Residence_type     5112 non-null   object \n",
    " 8   avg_glucose_level  5112 non-null   float64\n",
    " 9   bmi                4911 non-null   float64\n",
    " 10  smoking_status     5108 non-null   object \n",
    " 11  stroke             5112 non-null   int64 \n",
    " \n",
    "--> 5 columns are catogorical and 7 columns a numerical"
   ]
  },
  {
   "cell_type": "markdown",
   "id": "102e0e36",
   "metadata": {
    "id": "102e0e36"
   },
   "source": [
    "# 3. Data Preparation\n",
    "\n",
    "Perform the data prepracessing that is required for the data that you have downloaded. \n"
   ]
  },
  {
   "cell_type": "markdown",
   "id": "06fdebf8",
   "metadata": {
    "id": "06fdebf8"
   },
   "source": [
    "## 3.1 Apply techiniques\n",
    "* to remove duplicate data\n",
    "* to impute or remove missing data\n",
    "* to remove data inconsistencies\n",
    "\n",
    "IF ANY"
   ]
  },
  {
   "cell_type": "code",
   "execution_count": 288,
   "id": "dd3118eb",
   "metadata": {
    "id": "dd3118eb"
   },
   "outputs": [
    {
     "data": {
      "text/plain": [
       "id                     0\n",
       "gender                 1\n",
       "age                    0\n",
       "hypertension           0\n",
       "heart_disease          0\n",
       "ever_married           0\n",
       "work_type              0\n",
       "Residence_type         0\n",
       "avg_glucose_level      0\n",
       "bmi                  201\n",
       "smoking_status         4\n",
       "stroke                 0\n",
       "dtype: int64"
      ]
     },
     "execution_count": 288,
     "metadata": {},
     "output_type": "execute_result"
    }
   ],
   "source": [
    "##---------Type the code below this line------------------##\n",
    "df.isnull().sum() #checking missing values "
   ]
  },
  {
   "cell_type": "code",
   "execution_count": 289,
   "id": "5906d5ec",
   "metadata": {},
   "outputs": [
    {
     "data": {
      "text/plain": [
       "id                   0\n",
       "gender               0\n",
       "age                  0\n",
       "hypertension         0\n",
       "heart_disease        0\n",
       "ever_married         0\n",
       "work_type            0\n",
       "Residence_type       0\n",
       "avg_glucose_level    0\n",
       "bmi                  0\n",
       "smoking_status       0\n",
       "stroke               0\n",
       "dtype: int64"
      ]
     },
     "execution_count": 289,
     "metadata": {},
     "output_type": "execute_result"
    }
   ],
   "source": [
    "#filling NaN values\n",
    "df[\"gender\"].fillna(df[\"gender\"].mode()[0],inplace=True,axis=0)\n",
    "df[\"smoking_status\"].fillna(df[\"smoking_status\"].mode()[0],inplace=True,axis=0)\n",
    "df[\"bmi\"].fillna(df[\"bmi\"].median(),inplace=True,axis=0)\n",
    "\n",
    "\n",
    "df.isnull().sum()\n"
   ]
  },
  {
   "cell_type": "code",
   "execution_count": 290,
   "id": "a3b2cdee",
   "metadata": {
    "id": "a3b2cdee"
   },
   "outputs": [
    {
     "data": {
      "text/plain": [
       "2"
      ]
     },
     "execution_count": 290,
     "metadata": {},
     "output_type": "execute_result"
    }
   ],
   "source": [
    "##---------Type the code below this line------------------##\n",
    "#checking duplicate values\n",
    "df.duplicated().sum()"
   ]
  },
  {
   "cell_type": "code",
   "execution_count": 291,
   "id": "1f4f4b99",
   "metadata": {},
   "outputs": [],
   "source": [
    "#removing duplicate values\n",
    "df.drop_duplicates(inplace=True)"
   ]
  },
  {
   "cell_type": "markdown",
   "id": "cb3ca738",
   "metadata": {},
   "source": [
    "## 3.2 Encode categorical data"
   ]
  },
  {
   "cell_type": "code",
   "execution_count": 292,
   "id": "151cc2f8",
   "metadata": {},
   "outputs": [
    {
     "name": "stdout",
     "output_type": "stream",
     "text": [
      "['Male' 'Female']\n",
      "['Yes' 'No']\n",
      "['Urban' 'Rural']\n",
      "['Private' 'Self-employed' 'Govt_job' 'children' 'Never_worked']\n",
      "['formerly smoked' 'never smoked' 'smokes']\n"
     ]
    }
   ],
   "source": [
    "#checking unique values in categorical features\n",
    "print(df[\"gender\"].unique())\n",
    "print(df[\"ever_married\"].unique())\n",
    "print(df[\"Residence_type\"].unique())\n",
    "print(df[\"work_type\"].unique())\n",
    "print(df[\"smoking_status\"].unique())"
   ]
  },
  {
   "cell_type": "code",
   "execution_count": 293,
   "id": "08fc7ffc",
   "metadata": {},
   "outputs": [],
   "source": [
    "##---------Type the code below this line------------------##\n",
    "df[\"gender\"]=pd.get_dummies(df[\"gender\"],drop_first=True)\n",
    "df[\"ever_married\"]=pd.get_dummies(df[\"ever_married\"],drop_first=True)\n",
    "df[\"Residence_type\"]=pd.get_dummies(df[\"Residence_type\"],drop_first=True)\n",
    "\n",
    "df=pd.get_dummies(df,prefix_sep=\"_\",columns=[\"work_type\"])\n",
    "df=pd.get_dummies(df,prefix_sep=\"_\",columns=[\"smoking_status\"])\n"
   ]
  },
  {
   "cell_type": "code",
   "execution_count": 294,
   "id": "1d77df41",
   "metadata": {},
   "outputs": [
    {
     "data": {
      "text/html": [
       "<div>\n",
       "<style scoped>\n",
       "    .dataframe tbody tr th:only-of-type {\n",
       "        vertical-align: middle;\n",
       "    }\n",
       "\n",
       "    .dataframe tbody tr th {\n",
       "        vertical-align: top;\n",
       "    }\n",
       "\n",
       "    .dataframe thead th {\n",
       "        text-align: right;\n",
       "    }\n",
       "</style>\n",
       "<table border=\"1\" class=\"dataframe\">\n",
       "  <thead>\n",
       "    <tr style=\"text-align: right;\">\n",
       "      <th></th>\n",
       "      <th>id</th>\n",
       "      <th>gender</th>\n",
       "      <th>age</th>\n",
       "      <th>hypertension</th>\n",
       "      <th>heart_disease</th>\n",
       "      <th>ever_married</th>\n",
       "      <th>Residence_type</th>\n",
       "      <th>avg_glucose_level</th>\n",
       "      <th>bmi</th>\n",
       "      <th>stroke</th>\n",
       "      <th>work_type_Govt_job</th>\n",
       "      <th>work_type_Never_worked</th>\n",
       "      <th>work_type_Private</th>\n",
       "      <th>work_type_Self-employed</th>\n",
       "      <th>work_type_children</th>\n",
       "      <th>smoking_status_formerly smoked</th>\n",
       "      <th>smoking_status_never smoked</th>\n",
       "      <th>smoking_status_smokes</th>\n",
       "    </tr>\n",
       "  </thead>\n",
       "  <tbody>\n",
       "    <tr>\n",
       "      <th>0</th>\n",
       "      <td>9046</td>\n",
       "      <td>1</td>\n",
       "      <td>67.0</td>\n",
       "      <td>0</td>\n",
       "      <td>1</td>\n",
       "      <td>1</td>\n",
       "      <td>1</td>\n",
       "      <td>228.69</td>\n",
       "      <td>36.6</td>\n",
       "      <td>1</td>\n",
       "      <td>0</td>\n",
       "      <td>0</td>\n",
       "      <td>1</td>\n",
       "      <td>0</td>\n",
       "      <td>0</td>\n",
       "      <td>1</td>\n",
       "      <td>0</td>\n",
       "      <td>0</td>\n",
       "    </tr>\n",
       "    <tr>\n",
       "      <th>1</th>\n",
       "      <td>51676</td>\n",
       "      <td>0</td>\n",
       "      <td>61.0</td>\n",
       "      <td>0</td>\n",
       "      <td>0</td>\n",
       "      <td>1</td>\n",
       "      <td>0</td>\n",
       "      <td>202.21</td>\n",
       "      <td>28.0</td>\n",
       "      <td>1</td>\n",
       "      <td>0</td>\n",
       "      <td>0</td>\n",
       "      <td>0</td>\n",
       "      <td>1</td>\n",
       "      <td>0</td>\n",
       "      <td>0</td>\n",
       "      <td>1</td>\n",
       "      <td>0</td>\n",
       "    </tr>\n",
       "    <tr>\n",
       "      <th>2</th>\n",
       "      <td>31112</td>\n",
       "      <td>1</td>\n",
       "      <td>80.0</td>\n",
       "      <td>0</td>\n",
       "      <td>1</td>\n",
       "      <td>1</td>\n",
       "      <td>0</td>\n",
       "      <td>105.92</td>\n",
       "      <td>32.5</td>\n",
       "      <td>1</td>\n",
       "      <td>0</td>\n",
       "      <td>0</td>\n",
       "      <td>1</td>\n",
       "      <td>0</td>\n",
       "      <td>0</td>\n",
       "      <td>0</td>\n",
       "      <td>1</td>\n",
       "      <td>0</td>\n",
       "    </tr>\n",
       "    <tr>\n",
       "      <th>3</th>\n",
       "      <td>60182</td>\n",
       "      <td>0</td>\n",
       "      <td>49.0</td>\n",
       "      <td>0</td>\n",
       "      <td>0</td>\n",
       "      <td>1</td>\n",
       "      <td>1</td>\n",
       "      <td>171.23</td>\n",
       "      <td>34.4</td>\n",
       "      <td>1</td>\n",
       "      <td>0</td>\n",
       "      <td>0</td>\n",
       "      <td>1</td>\n",
       "      <td>0</td>\n",
       "      <td>0</td>\n",
       "      <td>0</td>\n",
       "      <td>0</td>\n",
       "      <td>1</td>\n",
       "    </tr>\n",
       "    <tr>\n",
       "      <th>4</th>\n",
       "      <td>1665</td>\n",
       "      <td>0</td>\n",
       "      <td>79.0</td>\n",
       "      <td>1</td>\n",
       "      <td>0</td>\n",
       "      <td>1</td>\n",
       "      <td>0</td>\n",
       "      <td>174.12</td>\n",
       "      <td>24.0</td>\n",
       "      <td>1</td>\n",
       "      <td>0</td>\n",
       "      <td>0</td>\n",
       "      <td>0</td>\n",
       "      <td>1</td>\n",
       "      <td>0</td>\n",
       "      <td>0</td>\n",
       "      <td>1</td>\n",
       "      <td>0</td>\n",
       "    </tr>\n",
       "  </tbody>\n",
       "</table>\n",
       "</div>"
      ],
      "text/plain": [
       "      id  gender   age  hypertension  heart_disease  ever_married  \\\n",
       "0   9046       1  67.0             0              1             1   \n",
       "1  51676       0  61.0             0              0             1   \n",
       "2  31112       1  80.0             0              1             1   \n",
       "3  60182       0  49.0             0              0             1   \n",
       "4   1665       0  79.0             1              0             1   \n",
       "\n",
       "   Residence_type  avg_glucose_level   bmi  stroke  work_type_Govt_job  \\\n",
       "0               1             228.69  36.6       1                   0   \n",
       "1               0             202.21  28.0       1                   0   \n",
       "2               0             105.92  32.5       1                   0   \n",
       "3               1             171.23  34.4       1                   0   \n",
       "4               0             174.12  24.0       1                   0   \n",
       "\n",
       "   work_type_Never_worked  work_type_Private  work_type_Self-employed  \\\n",
       "0                       0                  1                        0   \n",
       "1                       0                  0                        1   \n",
       "2                       0                  1                        0   \n",
       "3                       0                  1                        0   \n",
       "4                       0                  0                        1   \n",
       "\n",
       "   work_type_children  smoking_status_formerly smoked  \\\n",
       "0                   0                               1   \n",
       "1                   0                               0   \n",
       "2                   0                               0   \n",
       "3                   0                               0   \n",
       "4                   0                               0   \n",
       "\n",
       "   smoking_status_never smoked  smoking_status_smokes  \n",
       "0                            0                      0  \n",
       "1                            1                      0  \n",
       "2                            1                      0  \n",
       "3                            0                      1  \n",
       "4                            1                      0  "
      ]
     },
     "execution_count": 294,
     "metadata": {},
     "output_type": "execute_result"
    }
   ],
   "source": [
    "df.head() #printing first 5 rows of data"
   ]
  },
  {
   "cell_type": "markdown",
   "id": "90bc0a45",
   "metadata": {},
   "source": [
    "## 3.3 Feature Engineering \n",
    "\n",
    "if any"
   ]
  },
  {
   "cell_type": "code",
   "execution_count": 295,
   "id": "f9412d5c",
   "metadata": {},
   "outputs": [],
   "source": [
    "##---------Type the code below this line------------------##\n",
    "df.drop(\"id\",inplace=True,axis=1) #ID feature is not usefull in training model so we are removing it"
   ]
  },
  {
   "cell_type": "markdown",
   "id": "793cd04b",
   "metadata": {
    "id": "793cd04b"
   },
   "source": [
    "## 3.4 Identify the target variables.\n",
    "\n",
    "* Separate the data front the target such that the dataset is in the form of (X,y) or (Features, Label)\n",
    "\n",
    "* Discretize / Encode the target variable or perform one-hot encoding on the target or any other as and if required.\n",
    "\n"
   ]
  },
  {
   "cell_type": "code",
   "execution_count": 296,
   "id": "c9089b57",
   "metadata": {
    "id": "c9089b57"
   },
   "outputs": [],
   "source": [
    "##---------Type the code below this line------------------##\n",
    "y=df[\"stroke\"]\n",
    "x=df.drop(\"stroke\",axis=1)"
   ]
  },
  {
   "cell_type": "code",
   "execution_count": 297,
   "id": "134ef5f6",
   "metadata": {},
   "outputs": [
    {
     "data": {
      "text/plain": [
       "0    4861\n",
       "1     249\n",
       "Name: stroke, dtype: int64"
      ]
     },
     "execution_count": 297,
     "metadata": {},
     "output_type": "execute_result"
    }
   ],
   "source": [
    "y.value_counts()"
   ]
  },
  {
   "cell_type": "code",
   "execution_count": 298,
   "id": "87f11f11",
   "metadata": {},
   "outputs": [],
   "source": [
    "#handling imbalance class\n",
    "from imblearn.over_sampling import SMOTE\n",
    "balance=SMOTE()\n",
    "x,y=balance.fit_resample(x,y)"
   ]
  },
  {
   "cell_type": "markdown",
   "id": "4cd14601",
   "metadata": {},
   "source": [
    "## 3.5 Split the data into training set and testing set"
   ]
  },
  {
   "cell_type": "code",
   "execution_count": 299,
   "id": "1a74cd9c",
   "metadata": {},
   "outputs": [],
   "source": [
    "##---------Type the code below this line------------------##\n",
    "from sklearn.model_selection import train_test_split\n",
    "x_train,x_test,y_train,y_test=train_test_split(x,y,test_size=0.20,shuffle=True)"
   ]
  },
  {
   "cell_type": "markdown",
   "id": "51912c2d",
   "metadata": {},
   "source": [
    "## 3.6 Normalize the data"
   ]
  },
  {
   "cell_type": "code",
   "execution_count": 300,
   "id": "3d4ffbfc",
   "metadata": {},
   "outputs": [],
   "source": [
    "##---------Type the code below this line------------------##\n",
    "from sklearn.preprocessing import StandardScaler\n",
    "sc=StandardScaler()\n",
    "x_train=sc.fit_transform(x_train)\n",
    "x_test=sc.transform(x_test)"
   ]
  },
  {
   "cell_type": "markdown",
   "id": "e3cec4fc",
   "metadata": {
    "id": "e3cec4fc"
   },
   "source": [
    "## 3.7 Report\n",
    "\n",
    "Mention the method adopted  and justify why the method was used\n",
    "* to remove duplicate data, if present \n",
    "* to impute or remove missing data, if present \n",
    "* to remove data inconsistencies, if present \n",
    "* to encode categorical data \n",
    "* the normalization technique used\n",
    "\n",
    "If the any of the above are not present, then also add in the report below.\n",
    "\n",
    "Report the size of the training dataset and testing dataset\n",
    "\n",
    "Score: 3 Marks"
   ]
  },
  {
   "cell_type": "markdown",
   "id": "187aeb95",
   "metadata": {},
   "source": [
    "##---------Type the answer below this line------------------##\n",
    "\n",
    "1. <b>Remove duplicate data:</b> Yes our dataset had 2 duplicate values and we use the drop_duplicate function to remove the duplicate value</br></br>\n",
    "\n",
    "2. <b>Impute or remove missing data:</b> Yes our dataset has the missing values and we impute the missing values. For imputing we used the concept of Measures of Central Tendency (Mode/mean/median).\n",
    "\n",
    "  -> For categorical features we used the <b>Mode</b> for imputing the values. We used mode because it is the best   fuction for filling the Nan values in categorical features</br>\n",
    "  -> For numerical feature we used the <b>Median</b> for imputing the values. We used median because bmi column has the outliers and mean doesn't work great with outliers.</br></br>\n",
    "-> Columns which has the missing values :</br>\n",
    "1. gender --->     1</br>\n",
    "2. bmi --->                201</br>\n",
    "3. smoking_status --->        4</br>\n",
    "</br></br>\n",
    "\n",
    "3. <b>Data inconsistencies </b>: No our data doesn't have inconsistency. All values in our dataset is in same form</br></br>\n",
    "\n",
    "4. <b>Encode categorical data</b> : Yes we encoded our categorical features with the help of pandas inbuilt get_dummies() function which perform the <b>OneHotEncoding</b>. So for encoding our categorical features we used the OneHotEncoding concept."
   ]
  },
  {
   "cell_type": "markdown",
   "id": "3ae0b5d2",
   "metadata": {
    "id": "3ae0b5d2"
   },
   "source": [
    "# 4. Deep Neural Network Architecture\n",
    "\n"
   ]
  },
  {
   "cell_type": "markdown",
   "id": "186bf4d7",
   "metadata": {
    "id": "186bf4d7"
   },
   "source": [
    "## 4.1 Design the architecture that you will be using to solve the prediction problem identified.\n",
    "\n",
    "* Add dense layers, specifying the number of units in each layer and the activation function used in the layer."
   ]
  },
  {
   "cell_type": "code",
   "execution_count": 301,
   "id": "868d7b27",
   "metadata": {
    "id": "868d7b27"
   },
   "outputs": [],
   "source": [
    "##---------Type the code below this line------------------##\n",
    "from tensorflow.keras.layers import Dense,Dropout\n",
    "from tensorflow.keras.models import Sequential\n",
    "\n",
    "\n",
    "model=Sequential()\n",
    "model.add(Dense(16,activation=\"relu\",input_shape=(16, )))\n",
    "model.add(Dense(10,activation=\"relu\"))\n",
    "model.add(Dropout(.20))\n",
    "model.add(Dense(10,activation=\"relu\"))\n",
    "model.add(Dense(1,activation=\"sigmoid\"))"
   ]
  },
  {
   "cell_type": "code",
   "execution_count": 302,
   "id": "37c7bb36",
   "metadata": {},
   "outputs": [
    {
     "name": "stdout",
     "output_type": "stream",
     "text": [
      "Model: \"sequential_16\"\n",
      "_________________________________________________________________\n",
      " Layer (type)                Output Shape              Param #   \n",
      "=================================================================\n",
      " dense_64 (Dense)            (None, 16)                272       \n",
      "                                                                 \n",
      " dense_65 (Dense)            (None, 10)                170       \n",
      "                                                                 \n",
      " dropout_16 (Dropout)        (None, 10)                0         \n",
      "                                                                 \n",
      " dense_66 (Dense)            (None, 10)                110       \n",
      "                                                                 \n",
      " dense_67 (Dense)            (None, 1)                 11        \n",
      "                                                                 \n",
      "=================================================================\n",
      "Total params: 563\n",
      "Trainable params: 563\n",
      "Non-trainable params: 0\n",
      "_________________________________________________________________\n"
     ]
    }
   ],
   "source": [
    "model.summary()"
   ]
  },
  {
   "cell_type": "markdown",
   "id": "575f9e37",
   "metadata": {
    "id": "575f9e37"
   },
   "source": [
    "## 4.2 Report\n",
    "\n",
    "Report the following and provide justification for the same.\n",
    "\n",
    "* Number of layers\n",
    "* Number of units in each layer\n",
    "* Activation function used in each hidden layer\n",
    "* Activation function used in the output layer\n",
    "* Total number of trainable parameters \n",
    "\n",
    "Score: 4 Marks"
   ]
  },
  {
   "cell_type": "markdown",
   "id": "a95a15d8",
   "metadata": {
    "id": "4d614311"
   },
   "source": [
    "##---------Type the answer below this line------------------##\n",
    "\n",
    "1. <b>Number of layers</b>: We are using 5 layers in our model. 1 Input layer, 2 Hidden Layer, 1 Dropout and 1 Output layer.\n",
    "2. <b>Number of units in each layer</b>:\n",
    "\n",
    "  -> Input Layer: In input layer we have 16 units because our dataset have 16 features.</br>\n",
    "  -> Hidden Layer: In both hidden layer we have 10 units.</br>\n",
    "  -> Dropout Layer: We have dropout layer in our model which is probability is 20% of deactivting of neuron for saving model from overfitting.</br>\n",
    "  -> Output layer: In output layer we have 1 unit because our problem is binary classification so it generating 1                        output.</br></br>\n",
    "  \n",
    "\n",
    "3. <b>Activation function used in each layer</b>: We have used Relu in input and hidden layer and sigmoid in output layer. Relu is the one of the best activation function and also providing the high accuracy. And in output layer we used sigmoid because of problem is binary classification and sigmoid perform well in binary classification problem.</br></br>\n",
    "\n",
    "4. <b>Activation function used in output layer</b>: In output layer we used sigmoid because of problem is binary classification and sigmoid perform well in binary classification problem. Sigmoid function generats the output in 0 to 1 range.</br></br>\n",
    "\n",
    "5. <b>Total number of trainable parameters:</b> We have total 563 trainable parameter in our model"
   ]
  },
  {
   "cell_type": "markdown",
   "id": "bdbc82a1",
   "metadata": {
    "id": "bdbc82a1"
   },
   "source": [
    "# 5. Training the model\n"
   ]
  },
  {
   "cell_type": "markdown",
   "id": "ca214eb3",
   "metadata": {
    "id": "ca214eb3"
   },
   "source": [
    "## 5.1 Configure the training\n",
    "\n",
    "Configure  the model for training, by using appropriate optimizers and regularizations\n",
    "\n"
   ]
  },
  {
   "cell_type": "code",
   "execution_count": 303,
   "id": "a85e9754",
   "metadata": {
    "id": "a85e9754"
   },
   "outputs": [
    {
     "name": "stdout",
     "output_type": "stream",
     "text": [
      "Accuracy with different optimizer: [0.9177377820014954, 0.9177377820014954, 0.9177377820014954]\n"
     ]
    }
   ],
   "source": [
    "##---------Type the code below this line------------------##\n",
    "\n",
    "\n",
    "#Hyperparameter testing\n",
    "from tensorflow.keras.optimizers import Adam,Adagrad,SGD\n",
    "from tensorflow.keras.callbacks import EarlyStopping\n",
    "\n",
    "ear=EarlyStopping(\n",
    "    monitor=\"val_loss\",\n",
    "    min_delta=0,\n",
    "    patience=10,\n",
    "    verbose=0,\n",
    "    mode=\"auto\"\n",
    ")\n",
    "''''\n",
    "model1=Sequential()\n",
    "model1.add(Dense(16,activation=\"relu\",input_shape=(16, )))\n",
    "model1.add(Dense(10,activation=\"relu\"))\n",
    "model1.add(Dropout(.20))\n",
    "model1.add(Dense(10,activation=\"relu\"))\n",
    "model1.add(Dense(1,activation=\"sigmoid\"))\n",
    "\n",
    "adam=Adam(learning_rate=0.01)\n",
    "adagrad=Adagrad(learning_rate=0.01)\n",
    "sgd=SGD(learning_rate=0.01)\n",
    "opt=[adam,adagrad,sgd]\n",
    "score=[]\n",
    "for i in range(len(opt)): \n",
    "    model1.compile(optimizer=opt[i],loss=\"binary_crossentropy\",metrics=[\"accuracy\"])\n",
    "    model1.fit(x_train,y_train,epochs=10,validation_split=.10,batch_size=200,callbacks=ear)\n",
    "    score.append(model.evaluate(x_test,y_test)[1])\n",
    "    \n",
    "'''\n",
    "  \n",
    "print(\"Accuracy with different optimizer:\",score)\n"
   ]
  },
  {
   "cell_type": "code",
   "execution_count": 304,
   "id": "4c6ee362",
   "metadata": {},
   "outputs": [],
   "source": [
    "model.compile(optimizer=\"adam\",loss=\"binary_crossentropy\",metrics=[\"accuracy\"])"
   ]
  },
  {
   "cell_type": "markdown",
   "id": "32fd60d8",
   "metadata": {},
   "source": [
    "## 5.2 Train the model"
   ]
  },
  {
   "cell_type": "code",
   "execution_count": 305,
   "id": "8efaa227",
   "metadata": {},
   "outputs": [
    {
     "name": "stdout",
     "output_type": "stream",
     "text": [
      "Epoch 1/20\n",
      "39/39 [==============================] - 1s 7ms/step - loss: 0.6023 - accuracy: 0.6706 - val_loss: 0.5154 - val_accuracy: 0.7897\n",
      "Epoch 2/20\n",
      "39/39 [==============================] - 0s 4ms/step - loss: 0.4999 - accuracy: 0.7594 - val_loss: 0.3950 - val_accuracy: 0.8607\n",
      "Epoch 3/20\n",
      "39/39 [==============================] - 0s 3ms/step - loss: 0.4064 - accuracy: 0.8132 - val_loss: 0.3047 - val_accuracy: 0.8848\n",
      "Epoch 4/20\n",
      "39/39 [==============================] - 0s 3ms/step - loss: 0.3394 - accuracy: 0.8487 - val_loss: 0.2571 - val_accuracy: 0.8977\n",
      "Epoch 5/20\n",
      "39/39 [==============================] - 0s 4ms/step - loss: 0.2964 - accuracy: 0.8741 - val_loss: 0.2339 - val_accuracy: 0.9018\n",
      "Epoch 6/20\n",
      "39/39 [==============================] - 0s 3ms/step - loss: 0.2720 - accuracy: 0.8829 - val_loss: 0.2221 - val_accuracy: 0.9095\n",
      "Epoch 7/20\n",
      "39/39 [==============================] - 0s 3ms/step - loss: 0.2570 - accuracy: 0.8911 - val_loss: 0.2137 - val_accuracy: 0.9080\n",
      "Epoch 8/20\n",
      "39/39 [==============================] - 0s 3ms/step - loss: 0.2468 - accuracy: 0.8949 - val_loss: 0.2058 - val_accuracy: 0.9136\n",
      "Epoch 9/20\n",
      "39/39 [==============================] - 0s 3ms/step - loss: 0.2378 - accuracy: 0.8998 - val_loss: 0.2018 - val_accuracy: 0.9162\n",
      "Epoch 10/20\n",
      "39/39 [==============================] - 0s 4ms/step - loss: 0.2322 - accuracy: 0.9032 - val_loss: 0.2010 - val_accuracy: 0.9147\n",
      "Epoch 11/20\n",
      "39/39 [==============================] - 0s 4ms/step - loss: 0.2185 - accuracy: 0.9078 - val_loss: 0.1965 - val_accuracy: 0.9177\n",
      "Epoch 12/20\n",
      "39/39 [==============================] - 0s 5ms/step - loss: 0.2213 - accuracy: 0.9060 - val_loss: 0.1938 - val_accuracy: 0.9183\n",
      "Epoch 13/20\n",
      "39/39 [==============================] - 0s 5ms/step - loss: 0.2143 - accuracy: 0.9090 - val_loss: 0.1949 - val_accuracy: 0.9141\n",
      "Epoch 14/20\n",
      "39/39 [==============================] - 0s 5ms/step - loss: 0.2124 - accuracy: 0.9100 - val_loss: 0.1911 - val_accuracy: 0.9188\n",
      "Epoch 15/20\n",
      "39/39 [==============================] - 0s 4ms/step - loss: 0.2073 - accuracy: 0.9123 - val_loss: 0.1887 - val_accuracy: 0.9198\n",
      "Epoch 16/20\n",
      "39/39 [==============================] - 0s 4ms/step - loss: 0.2053 - accuracy: 0.9136 - val_loss: 0.1878 - val_accuracy: 0.9193\n",
      "Epoch 17/20\n",
      "39/39 [==============================] - 0s 5ms/step - loss: 0.2028 - accuracy: 0.9159 - val_loss: 0.1874 - val_accuracy: 0.9203\n",
      "Epoch 18/20\n",
      "39/39 [==============================] - 0s 6ms/step - loss: 0.1995 - accuracy: 0.9158 - val_loss: 0.1870 - val_accuracy: 0.9203\n",
      "Epoch 19/20\n",
      "39/39 [==============================] - 0s 4ms/step - loss: 0.1992 - accuracy: 0.9165 - val_loss: 0.1848 - val_accuracy: 0.9183\n",
      "Epoch 20/20\n",
      "39/39 [==============================] - 0s 4ms/step - loss: 0.1965 - accuracy: 0.9150 - val_loss: 0.1843 - val_accuracy: 0.9219\n"
     ]
    }
   ],
   "source": [
    "##---------Type the code below this line------------------##\n",
    "history=model.fit(x_train,y_train,epochs=20,validation_data=(x_test,y_test),batch_size=200,callbacks=ear)"
   ]
  },
  {
   "cell_type": "markdown",
   "id": "19bd0c56",
   "metadata": {},
   "source": [
    "Justify your choice of optimizers and regulizations used and the hyperparameters tuned\n",
    "\n",
    "Score: 4 Marks"
   ]
  },
  {
   "cell_type": "markdown",
   "id": "70064645",
   "metadata": {},
   "source": [
    "##---------Type the answers below this line------------------##\n",
    "1. <b>Optimizers:</b> We have used ADAM optimizer in our model beacuse its performing well on our data</br></br>\n",
    "2. <b>Regulizations:</b> We have used Dropout regulization in our model for preventing from Overfitting. We are deactivating 20% neuron in dropout layer</br></br>\n",
    "3. <b>Hyperparameters:</b> We have used different optimizer and we got almost same accuracy from all the optimizer and also used the batch concept and we are passing 200 data per batch."
   ]
  },
  {
   "cell_type": "markdown",
   "id": "06f1173c",
   "metadata": {
    "id": "06f1173c"
   },
   "source": [
    "# 6. Test the model\n",
    "\n",
    "Score: 2 Marks"
   ]
  },
  {
   "cell_type": "code",
   "execution_count": 306,
   "id": "7042235d",
   "metadata": {
    "id": "7042235d"
   },
   "outputs": [
    {
     "name": "stdout",
     "output_type": "stream",
     "text": [
      "61/61 [==============================] - 0s 1ms/step\n",
      "[0 0 0 ... 0 0 0]\n"
     ]
    }
   ],
   "source": [
    "##---------Type the code below this line------------------##\n",
    "\n",
    "y_pred1 = model.predict(x_test)\n",
    "y_pred = np.argmax(y_pred1, axis=1)\n",
    "print(y_pred)"
   ]
  },
  {
   "cell_type": "markdown",
   "id": "eb57940c",
   "metadata": {
    "id": "eb57940c"
   },
   "source": [
    "## 7. Conclusion \n",
    "\n",
    "Plot the training and validation loss\n",
    "Report the testing accuracy and loss.\n",
    "\n",
    "Report values for preformance study metrics like accuracy, precision, recall, F1 Score.\n",
    "\n",
    "A proper comparision based on different metrics should be done and not just accuracy alone, only then the comparision becomes authentic. You may use Confusion matrix, classification report, MAE etc per the requirement of your application/problem.\n",
    "\n",
    "Score 2 Marks"
   ]
  },
  {
   "cell_type": "code",
   "execution_count": 310,
   "id": "9bf06eb1",
   "metadata": {
    "id": "9bf06eb1"
   },
   "outputs": [
    {
     "data": {
      "image/png": "[encoded data removed]",
      "text/plain": [
       "<Figure size 640x480 with 1 Axes>"
      ]
     },
     "metadata": {},
     "output_type": "display_data"
    },
    {
     "data": {
      "image/png": "[encoded data removed]",
      "text/plain": [
       "<Figure size 640x480 with 1 Axes>"
      ]
     },
     "metadata": {},
     "output_type": "display_data"
    },
    {
     "name": "stdout",
     "output_type": "stream",
     "text": [
      "61/61 [==============================] - 0s 2ms/step\n",
      "\n",
      "\n",
      "\n",
      " ************F1, Precision, and Recall scores**************\n",
      "\n",
      "->Precision Score: 0.2498714652956298\n",
      "->Recall Score: 0.5\n",
      "->F1 Score: 0.3332190606787796\n",
      "61/61 [==============================] - 0s 2ms/step - loss: 0.1843 - accuracy: 0.9219\n",
      "->Accuracy: 0.9218509197235107\n",
      "->Confusion Matrix:\n",
      " [[972   0]\n",
      " [973   0]]\n",
      "\n",
      "->Classification Report:\n",
      "               precision    recall  f1-score   support\n",
      "\n",
      "           0       0.50      1.00      0.67       972\n",
      "           1       0.00      0.00      0.00       973\n",
      "\n",
      "    accuracy                           0.50      1945\n",
      "   macro avg       0.25      0.50      0.33      1945\n",
      "weighted avg       0.25      0.50      0.33      1945\n",
      "\n"
     ]
    }
   ],
   "source": [
    "##---------Type the code below this line------------------##\n",
    "import matplotlib.pyplot as plt\n",
    "plt.plot(history.history['accuracy'])\n",
    "plt.plot(history.history['val_accuracy'])\n",
    "plt.title('model accuracy')\n",
    "plt.ylabel('accuracy')\n",
    "plt.xlabel('epoch')\n",
    "plt.legend(['train', 'test'], loc='upper left')\n",
    "plt.show()\n",
    "\n",
    "# summarize history for loss\n",
    "plt.plot(history.history['loss'])\n",
    "plt.plot(history.history['val_loss'])\n",
    "plt.title('model loss')\n",
    "plt.ylabel('loss')\n",
    "plt.xlabel('epoch')\n",
    "plt.legend(['train', 'test'], loc='upper left')\n",
    "plt.show()\n",
    "\n",
    "\n",
    "from sklearn.metrics import f1_score, precision_score, recall_score, confusion_matrix,classification_report\n",
    "y_pred1 = model.predict(x_test)\n",
    "y_pred = np.argmax(y_pred1, axis=1)\n",
    "\n",
    "# Print f1, precision, and recall scores\n",
    "print(\"\\n\\n\\n ************F1, Precision, and Recall scores**************\\n\")\n",
    "print(\"->Precision Score:\",precision_score(y_test, y_pred , average=\"macro\"))\n",
    "print(\"->Recall Score:\",recall_score(y_test, y_pred , average=\"macro\"))\n",
    "print(\"->F1 Score:\",f1_score(y_test, y_pred , average=\"macro\"))\n",
    "print(\"->Accuracy:\",model.evaluate(x_test,y_test)[1])\n",
    "print(\"->Confusion Matrix:\\n\",confusion_matrix(y_test, y_pred))\n",
    "print(\"\\n->Classification Report:\\n\",classification_report(y_test, y_pred))"
   ]
  },
  {
   "cell_type": "markdown",
   "id": "79ed0137",
   "metadata": {
    "id": "79ed0137"
   },
   "source": [
    "## 8. Solution\n",
    "\n",
    "What is the solution that is proposed to solve the business problem discussed in Section 1. Also share your learnings while working through solving the problem in terms of challenges, observations, decisions made etc.\n",
    "\n",
    "Score 2 Marks"
   ]
  },
  {
   "cell_type": "markdown",
   "id": "1345b834",
   "metadata": {
    "id": "3f2680b2"
   },
   "source": [
    "##---------Type the answers below this line------------------##\n",
    "\n",
    "1. <b>Solution Proposed</b>:We have developed a model which is able to predict whether a patient is likely to get stroke based on the input parameters like gender, age, various diseases, and smoking status. Each row in the data provides relavant information about the patient.</br></br>\n",
    "\n",
    "2. <b>Challenges, Observations and Decisions made</b>:\n",
    "a. Our dataset had the missing values which was later filled with the help of Measures of Central Tendency (Mode/mean/median). concept.</br>\n",
    "b. We transformed our data in the format which is required to our model.</br>\n",
    "c. We observe during analysis of our data that our data is imbalance. Pepole don't get stroke data is high then the people got stroke which we handled by upsampling the data.</br>\n",
    "d. We checked different optimizer and got the almost same accuracy with all the optimizers.</br>\n",
    "e. Our dataset also has the 2 duplicate values which we removed from the dataset.</br>\n",
    "f. We used the Dropout layer for avoding the overfitting and successfully handled that because on test and train data we are getting 92% accuracy.</br>\n",
    "g. We also use the early stopping for avoiding extra calculation and extra processing."
   ]
  },
  {
   "cell_type": "markdown",
   "id": "RcDDQlfbZQ7E",
   "metadata": {
    "id": "RcDDQlfbZQ7E"
   },
   "source": [
    "##NOTE\n",
    "All Late Submissions will incur a penalty of -2 marks. So submit your assignments on time.\n",
    "\n",
    "Good Luck"
   ]
  },
  {
   "cell_type": "code",
   "execution_count": null,
   "id": "12af0eda",
   "metadata": {},
   "outputs": [],
   "source": []
  }
 ],
 "metadata": {
  "colab": {
   "provenance": []
  },
  "kernelspec": {
   "display_name": "Python 3 (ipykernel)",
   "language": "python",
   "name": "python3"
  },
  "language_info": {
   "codemirror_mode": {
    "name": "ipython",
    "version": 3
   },
   "file_extension": ".py",
   "mimetype": "text/x-python",
   "name": "python",
   "nbconvert_exporter": "python",
   "pygments_lexer": "ipython3",
   "version": "3.9.16"
  }
 },
 "nbformat": 4,
 "nbformat_minor": 5
}
